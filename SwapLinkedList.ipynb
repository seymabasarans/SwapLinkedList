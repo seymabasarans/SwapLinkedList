{
 "cells": [
  {
   "cell_type": "markdown",
   "id": "17173c4b",
   "metadata": {},
   "source": [
    "linked list bir dizi düğümden oluşur ve her düğüm bir veri elemanı (data) ve bir sonraki düğümü (next) işaret eder.\n",
    "\n",
    "Input:[1,2,3,4,5,6,7,8] \n",
    "\n",
    "Output:[1,2,3,5,4,6,8,7]"
   ]
  },
  {
   "cell_type": "code",
   "execution_count": 7,
   "id": "cf1a5722",
   "metadata": {},
   "outputs": [],
   "source": [
    "class Node:\n",
    "  # Creating a node\n",
    "  def __init__(self, data): #constructor\n",
    "    self.data = data\n",
    "    self.next = None"
   ]
  },
  {
   "cell_type": "code",
   "execution_count": 9,
   "id": "19c2548f",
   "metadata": {},
   "outputs": [],
   "source": [
    "class swapNodes:\n",
    "    def __init__(self): #constructor\n",
    "        self.head = None \n",
    "\n",
    "    def searchNodes(self, n1, n2): #değiştirmek istenen buluyoruz\n",
    "        node1 = node2 = self.head #hepsi listenin başı yaptık\n",
    "        #işaretçilerle listeyi dolaşıcaz\n",
    "        prevn1 = prevn2 = None #Bunlar x ve y değerlerini içeren düğümleri bulduktan sonra bu düğümlerin önceki düğümlerini tutmak için\n",
    "        \n",
    "        # search for x \n",
    "        #döngü currentX.data eşit olana veya currentX işaretçisi boş (None) olana kadar devam eder\n",
    "        while node1.data != n1 and node1 != None:\n",
    "            prevn1 = node1\n",
    "            node1 = node1.next\n",
    "\n",
    "        # search for y\n",
    "        while node2.data != n2 and node2 != None:\n",
    "            prevn2 = node2\n",
    "            node2 = node2.next\n",
    "              \n",
    "        return prevn1, node1, prevn2, node2, \n",
    "\n",
    "    def swap(self, n1, n2):\n",
    "         # both keys are same do nothing\n",
    "        if n1 == n2:\n",
    "            return\n",
    "    \n",
    "        prevn1, node1, prevn2, node2 = self.searchNodes(n1, n2)\n",
    "        #ilk aradığımız verileri buluyoruz\n",
    "        \n",
    "        if node1 is None and node2 is None: #n1 n2 yoksa\n",
    "             return\n",
    "            \n",
    "        # x is not head\n",
    "        if  prevn1 is not None: #n1 değeri baş düğüm değilse\n",
    "              prevn1.next = node2#düğümünün \"next\" işaretçisini node2 düğümüne bağlarız prevn1 düğümü n1 değerini içeren düğümün ardından gelir.\n",
    "        else:\n",
    "            # make y as head\n",
    "            self.head = node2 \n",
    "    \n",
    "        # y is not head\n",
    "        if  prevn2 is not None:\n",
    "              prevn2.next = node1  \n",
    "        else:\n",
    "            # make x as head\n",
    "            self.head = node1 \n",
    "    \n",
    "        # swap pointers \n",
    "        \n",
    "        temp = node1.next\n",
    "        node1.next = node2.next #node1 düğümü,node2 düğümünden sonraki düğümü işaret eder.\n",
    "        node2.next = temp\n",
    "  \n",
    "    def addNode(self, new_data):\n",
    "        new_node = Node(new_data)\n",
    "        #new_data değerini içeren yeni bir düğüm oluşturuyoruz, new_node artık bağlı listeye ekleyeceğimiz yeni düğümü temsil ediyor.\n",
    "        new_node.next = self.head #(new_node.next) bağlı listenin mevcut baş düğümü olan self.head'e bağlıyoruz.\n",
    "        self.head = new_node ##listenin baş düğümü\n",
    " \n",
    "    def printLinkedList(self):\n",
    "        temp = self.head\n",
    "        while temp is not None:\n",
    "            print(temp.data, end=\"\")\n",
    "            temp = temp.next\n",
    "            if temp is not None:  # Son elemandan sonra virgülü koymamak için\n",
    "               print(\" , \", end=\"\")\n",
    "   "
   ]
  },
  {
   "cell_type": "code",
   "execution_count": 10,
   "id": "c1d9dfd7",
   "metadata": {},
   "outputs": [
    {
     "name": "stdout",
     "output_type": "stream",
     "text": [
      "Before Swap: \n",
      "1 , 2 , 3 , 4 , 5 , 6 , 7 , 8\n",
      "After Swap: \n",
      "1 , 2 , 3 , 5 , 4 , 6 , 8 , 7"
     ]
    }
   ],
   "source": [
    "llist=swapNodes()\n",
    "\n",
    "llist.addNode(8)  \n",
    "llist.addNode(7)  \n",
    "llist.addNode(6)  \n",
    "llist.addNode(5)\n",
    "llist.addNode(4)\n",
    "llist.addNode(3)\n",
    "llist.addNode(2)\n",
    "llist.addNode(1) \n",
    "\n",
    "print('Before Swap: ')\n",
    "llist.printLinkedList()\n",
    "  \n",
    "llist.swap(4, 5) \n",
    "\n",
    "llist.swap(7,8)\n",
    "\n",
    "print('\\nAfter Swap: ')\n",
    "llist.printLinkedList() "
   ]
  },
  {
   "cell_type": "code",
   "execution_count": null,
   "id": "231a8fc5",
   "metadata": {},
   "outputs": [],
   "source": []
  }
 ],
 "metadata": {
  "kernelspec": {
   "display_name": "Python 3.10.6 64-bit",
   "language": "python",
   "name": "python3"
  },
  "language_info": {
   "codemirror_mode": {
    "name": "ipython",
    "version": 3
   },
   "file_extension": ".py",
   "mimetype": "text/x-python",
   "name": "python",
   "nbconvert_exporter": "python",
   "pygments_lexer": "ipython3",
   "version": "3.10.6"
  },
  "vscode": {
   "interpreter": {
    "hash": "aee8b7b246df8f9039afb4144a1f6fd8d2ca17a180786b69acc140d282b71a49"
   }
  }
 },
 "nbformat": 4,
 "nbformat_minor": 5
}
